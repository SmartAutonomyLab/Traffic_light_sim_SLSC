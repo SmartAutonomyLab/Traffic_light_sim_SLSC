{
 "cells": [
  {
   "cell_type": "code",
   "execution_count": 1,
   "metadata": {},
   "outputs": [
    {
     "name": "stdout",
     "output_type": "stream",
     "text": [
      "[[0.         0.        ]\n",
      " [0.07407407 0.16666667]]\n"
     ]
    }
   ],
   "source": [
    "import numpy as np \n",
    "from learning_funcs import word2trans_matrix, WFA_func, WFA_SPEC_DECOMP\n",
    "\n",
    "\n",
    "# Define the WFA transition matrices A_a, A_b, A_c\n",
    "A_a = np.array([[0, 1/3], [1/3, 1/2]])\n",
    "A_b = np.array([[1/2, 2/3], [0, 0]])\n",
    "A_c = np.array([[1/2, 0], [2/3, 1/2]])\n",
    "\n",
    "# Concatenate the transition matrices\n",
    "A_array = np.concatenate((A_a, A_b, A_c), axis=1)\n",
    "\n",
    "# Define a word to evaluate\n",
    "word = [1, 2, 1]\n",
    "\n",
    "# Evaluate the transition matrix for the word using the WFA\n",
    "A_word = word2trans_matrix(word, A_array)\n",
    "\n",
    "# Print the resulting transition matrix\n",
    "print(A_word)"
   ]
  },
  {
   "cell_type": "code",
   "execution_count": 2,
   "metadata": {},
   "outputs": [],
   "source": [
    "\n",
    "# WFA test script for simple probabilistic FA\n",
    "A_a = np.array([[0, 1/3], [1/3, 1/2]])\n",
    "A_b = np.array([[1/2, 2/3], [0, 0]])\n",
    "A_c = np.array([[1/2, 0], [2/3, 1/2]])\n",
    "a_0 = np.array([[1/2], [1/2]])\n",
    "b_inf = np.array([[0], [1]])\n",
    "A_array = np.concatenate((A_a, A_b, A_c), axis=1)\n",
    "\n",
    "word = [1, 1]\n",
    "w = WFA_func(word, a_0, A_array, b_inf)"
   ]
  },
  {
   "cell_type": "code",
   "execution_count": 2,
   "metadata": {},
   "outputs": [],
   "source": [
    "# Example from the paper\n",
    "A_a = np.array([[3/4, 0], [0, 1/3]])\n",
    "A_b = np.array([[6/5, 2/3], [3/4, 1]])\n",
    "\n",
    "a_0 = np.array([[1/2], [1/2]])\n",
    "b_inf = np.array([[1], [-1]])\n",
    "A_array = np.concatenate((A_a, A_b), axis=1)\n",
    "word1 = [1]\n",
    "word2 = [2]\n",
    "word11 = [1, 1]\n",
    "word12 = [1, 2]\n",
    "word21 = [2, 1]\n",
    "word22 = [2, 2]\n",
    "\n",
    "w1 = WFA_func(word1, a_0, A_array, b_inf)\n",
    "w2 = WFA_func(word2, a_0, A_array, b_inf)\n",
    "w11 = WFA_func(word11, a_0, A_array, b_inf)\n",
    "w12 = WFA_func(word12, a_0, A_array, b_inf)\n",
    "w21 = WFA_func(word21, a_0, A_array, b_inf)\n",
    "w22 = WFA_func(word22, a_0, A_array, b_inf)"
   ]
  },
  {
   "cell_type": "code",
   "execution_count": 4,
   "metadata": {},
   "outputs": [],
   "source": [
    "H_z = np.zeros((9, 3))\n",
    "H_z[0, :] = [0, 20, 14]  # H_b(e,:)\n",
    "H_z[1, :] = [20, 22, 15]  # H_b(a,:)\n",
    "H_z[2, :] = [14, 45, 31]  # H_b(b,:)\n",
    "H_z[3, :] = [20, 22, 15]  # H_b(ea,:)\n",
    "H_z[4, :] = [22, 19, 13]  # H_b(aa,:)\n",
    "H_z[5, :] = [45, 45, 32]  # H_b(ba,:)\n",
    "H_z[6, :] = [14, 45, 31]  # H_b(b,:)\n",
    "H_z[7, :] = [15, 29, 20]  # H_b(ab,:)\n",
    "H_z[8, :] = [31, 85, 58]  # H_b(bb,:)\n",
    "H_z = H_z / 100\n",
    "num_states = 2\n",
    "num_letters = 2\n",
    "a_0t, A_arrayt, b_inft, P = WFA_SPEC_DECOMP(H_z, num_letters)\n",
    "\n",
    "w1t  = WFA_func(word1, a_0t, A_arrayt, b_inft)\n",
    "w2t  = WFA_func(word2, a_0t, A_arrayt, b_inft)\n",
    "w11t = WFA_func(word11, a_0t, A_arrayt, b_inft)\n",
    "w12t = WFA_func(word12, a_0t, A_arrayt, b_inft)\n",
    "w21t = WFA_func(word21, a_0t, A_arrayt, b_inft)\n",
    "w22t = WFA_func(word22, a_0t, A_arrayt, b_inft)"
   ]
  }
 ],
 "metadata": {
  "kernelspec": {
   "display_name": "Python 3",
   "language": "python",
   "name": "python3"
  },
  "language_info": {
   "codemirror_mode": {
    "name": "ipython",
    "version": 3
   },
   "file_extension": ".py",
   "mimetype": "text/x-python",
   "name": "python",
   "nbconvert_exporter": "python",
   "pygments_lexer": "ipython3",
   "version": "3.8.5"
  }
 },
 "nbformat": 4,
 "nbformat_minor": 2
}
